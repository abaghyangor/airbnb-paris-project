{
 "cells": [
  {
   "cell_type": "markdown",
   "id": "72dd8150-c320-4628-875f-2f6067aa133a",
   "metadata": {},
   "source": [
    "# 🏡 AirBnB Listing Analysis in Paris\n",
    "## Introduction\n",
    "\n",
    "The Airbnb market in Paris has undergone significant changes due to recent regulations. This project aims to explore trends in Airbnb listings, including pricing, host behaviors, and accommodation characteristics, to understand the impact of these regulations on the market.\n",
    "\n",
    "I will be using a large dataset of Airbnb listings to uncover insights such as:\n",
    "\n",
    "- Which neighborhoods in Paris have the highest average listing prices?\n",
    "- How have listing prices changed over time?\n",
    "- How has the number of Airbnb hosts in Paris changed over the years?\n",
    "\n",
    "This analysis will help us answer key questions that may interest Airbnb hosts, guests, and even policymakers regulating the short-term rental market.\n",
    "\n",
    "The dataset used in this project contains detailed information about Airbnb listings in various cities. For the purpose of this project, I have filtered the dataset to focus only on **Paris listings**.\n",
    "\n",
    "Let's dive into the data to uncover valuable insights from the Airbnb market in Paris!\n"
   ]
  },
  {
   "cell_type": "code",
   "execution_count": 2,
   "id": "0fe942ca-1cd9-49a4-bd38-965d2b9f833d",
   "metadata": {},
   "outputs": [],
   "source": [
    "import pandas as pd\n",
    "import numpy as np\n",
    "import matplotlib as plt"
   ]
  },
  {
   "cell_type": "code",
   "execution_count": null,
   "id": "705eadfa-6c39-4f14-b7c2-3928c3b21fad",
   "metadata": {},
   "outputs": [],
   "source": [
    "# 🧩 Import Necessary Libraries\n",
    "# - pandas for data manipulation\n",
    "# - numpy for numerical operations\n",
    "# - matplotlib for data visualization"
   ]
  },
  {
   "cell_type": "code",
   "execution_count": 3,
   "id": "1d2f560d-487e-430c-9834-a749cef58bde",
   "metadata": {},
   "outputs": [],
   "source": [
    "listings = pd.read_csv('Data/Listings.csv', low_memory = False, encoding = \"ISO-8859-1\", parse_dates = ['host_since'])"
   ]
  },
  {
   "cell_type": "code",
   "execution_count": null,
   "id": "95679bc1-e504-4539-bff5-a6ea3672e837",
   "metadata": {},
   "outputs": [],
   "source": [
    "# 🚀 Load the Data\n",
    "# The dataset contains listings across multiple cities. We filter it to include only Paris listings.\n",
    "# The 'host_since' column is parsed as a datetime to help with time-based analysis."
   ]
  },
  {
   "cell_type": "code",
   "execution_count": 4,
   "id": "279fbe54-0045-436d-af66-fe361b482d56",
   "metadata": {},
   "outputs": [],
   "source": [
    "listings_paris = listings.query(\"city == 'Paris'\").loc[:, ['host_since','neighbourhood','city','accommodates','price'] ]"
   ]
  },
  {
   "cell_type": "code",
   "execution_count": null,
   "id": "3c6248ee-c208-4fbf-b574-d2344708916c",
   "metadata": {},
   "outputs": [],
   "source": [
    "# 🎯 Filter the Data for Paris Listings\n",
    "# .query() method to filter out listings from other cities, keeping only Paris-related data.\n",
    "# The columns selected for further analysis are:\n",
    "# - 'host_since': Date when the host joined\n",
    "# - 'neighbourhood': Location of the listing\n",
    "# - 'city': City of the listing\n",
    "# - 'accommodates': Number of people the listing can accommodate\n",
    "# - 'price': Listing price"
   ]
  },
  {
   "cell_type": "code",
   "execution_count": 5,
   "id": "9a22e91b-718f-4966-8c21-32d7c7049fbe",
   "metadata": {},
   "outputs": [
    {
     "name": "stdout",
     "output_type": "stream",
     "text": [
      "<class 'pandas.core.frame.DataFrame'>\n",
      "Index: 64690 entries, 0 to 279711\n",
      "Data columns (total 5 columns):\n",
      " #   Column         Non-Null Count  Dtype         \n",
      "---  ------         --------------  -----         \n",
      " 0   host_since     64657 non-null  datetime64[ns]\n",
      " 1   neighbourhood  64690 non-null  object        \n",
      " 2   city           64690 non-null  object        \n",
      " 3   accommodates   64690 non-null  int64         \n",
      " 4   price          64690 non-null  int64         \n",
      "dtypes: datetime64[ns](1), int64(2), object(2)\n",
      "memory usage: 3.0+ MB\n"
     ]
    }
   ],
   "source": [
    "listings_paris.info() #  33 NaN values in host_since, small fraction of data so will leave it as is"
   ]
  },
  {
   "cell_type": "code",
   "execution_count": null,
   "id": "41eeb8b2-fb59-431e-91bf-86da3a96385d",
   "metadata": {},
   "outputs": [],
   "source": [
    "# 🔍 Data Overview\n",
    "# .info() to get a quick summary of the dataset, including the number of non-null values, data types, and memory usage."
   ]
  },
  {
   "cell_type": "code",
   "execution_count": 6,
   "id": "eacbfc8b-dffc-48ef-b673-7927417bc277",
   "metadata": {},
   "outputs": [
    {
     "data": {
      "text/html": [
       "<div>\n",
       "<style scoped>\n",
       "    .dataframe tbody tr th:only-of-type {\n",
       "        vertical-align: middle;\n",
       "    }\n",
       "\n",
       "    .dataframe tbody tr th {\n",
       "        vertical-align: top;\n",
       "    }\n",
       "\n",
       "    .dataframe thead th {\n",
       "        text-align: right;\n",
       "    }\n",
       "</style>\n",
       "<table border=\"1\" class=\"dataframe\">\n",
       "  <thead>\n",
       "    <tr style=\"text-align: right;\">\n",
       "      <th></th>\n",
       "      <th>accommodates</th>\n",
       "      <th>price</th>\n",
       "    </tr>\n",
       "  </thead>\n",
       "  <tbody>\n",
       "    <tr>\n",
       "      <th>count</th>\n",
       "      <td>64690.000000</td>\n",
       "      <td>64690.000000</td>\n",
       "    </tr>\n",
       "    <tr>\n",
       "      <th>mean</th>\n",
       "      <td>3.037997</td>\n",
       "      <td>113.096445</td>\n",
       "    </tr>\n",
       "    <tr>\n",
       "      <th>min</th>\n",
       "      <td>0.000000</td>\n",
       "      <td>0.000000</td>\n",
       "    </tr>\n",
       "    <tr>\n",
       "      <th>25%</th>\n",
       "      <td>2.000000</td>\n",
       "      <td>59.000000</td>\n",
       "    </tr>\n",
       "    <tr>\n",
       "      <th>50%</th>\n",
       "      <td>2.000000</td>\n",
       "      <td>80.000000</td>\n",
       "    </tr>\n",
       "    <tr>\n",
       "      <th>75%</th>\n",
       "      <td>4.000000</td>\n",
       "      <td>120.000000</td>\n",
       "    </tr>\n",
       "    <tr>\n",
       "      <th>max</th>\n",
       "      <td>16.000000</td>\n",
       "      <td>12000.000000</td>\n",
       "    </tr>\n",
       "    <tr>\n",
       "      <th>std</th>\n",
       "      <td>1.588766</td>\n",
       "      <td>214.433668</td>\n",
       "    </tr>\n",
       "  </tbody>\n",
       "</table>\n",
       "</div>"
      ],
      "text/plain": [
       "       accommodates         price\n",
       "count  64690.000000  64690.000000\n",
       "mean       3.037997    113.096445\n",
       "min        0.000000      0.000000\n",
       "25%        2.000000     59.000000\n",
       "50%        2.000000     80.000000\n",
       "75%        4.000000    120.000000\n",
       "max       16.000000  12000.000000\n",
       "std        1.588766    214.433668"
      ]
     },
     "execution_count": 6,
     "metadata": {},
     "output_type": "execute_result"
    }
   ],
   "source": [
    "listings_paris.describe().loc[:,['accommodates', 'price']] # the max, min, average values for price and accommodates"
   ]
  },
  {
   "cell_type": "code",
   "execution_count": null,
   "id": "aee43819-db18-489c-aa50-c5ac7a5bce7c",
   "metadata": {},
   "outputs": [],
   "source": [
    "# 🧪 Quick Summary Statistics\n",
    "# Use .describe() to get a quick overview of the numerical data.\n",
    "# This helps identify the range of values for columns like 'price' and 'accommodates'.\n",
    "# Key insights include:\n",
    "# - Minimum, maximum, mean, and standard deviation values\n",
    "# - Helps spot any unusual or incorrect values"
   ]
  },
  {
   "cell_type": "code",
   "execution_count": 7,
   "id": "ec250cca-805d-4e7e-be99-10564f0b388e",
   "metadata": {},
   "outputs": [
    {
     "data": {
      "text/plain": [
       "host_since       54\n",
       "neighbourhood    54\n",
       "city             54\n",
       "accommodates     54\n",
       "price            54\n",
       "dtype: int64"
      ]
     },
     "execution_count": 7,
     "metadata": {},
     "output_type": "execute_result"
    }
   ],
   "source": [
    "listings_paris.query(\"accommodates == 0 and price == 0\").count() # small fraction of data, will leave it as is"
   ]
  },
  {
   "cell_type": "code",
   "execution_count": 8,
   "id": "36c2bd47-a3ed-4cf0-9123-b9b7686bf24b",
   "metadata": {
    "scrolled": true
   },
   "outputs": [
    {
     "data": {
      "text/html": [
       "<div>\n",
       "<style scoped>\n",
       "    .dataframe tbody tr th:only-of-type {\n",
       "        vertical-align: middle;\n",
       "    }\n",
       "\n",
       "    .dataframe tbody tr th {\n",
       "        vertical-align: top;\n",
       "    }\n",
       "\n",
       "    .dataframe thead th {\n",
       "        text-align: right;\n",
       "    }\n",
       "</style>\n",
       "<table border=\"1\" class=\"dataframe\">\n",
       "  <thead>\n",
       "    <tr style=\"text-align: right;\">\n",
       "      <th></th>\n",
       "      <th>host_since</th>\n",
       "      <th>neighbourhood</th>\n",
       "      <th>city</th>\n",
       "      <th>accommodates</th>\n",
       "      <th>price</th>\n",
       "    </tr>\n",
       "  </thead>\n",
       "  <tbody>\n",
       "    <tr>\n",
       "      <th>0</th>\n",
       "      <td>2011-12-03</td>\n",
       "      <td>Buttes-Montmartre</td>\n",
       "      <td>Paris</td>\n",
       "      <td>2</td>\n",
       "      <td>53</td>\n",
       "    </tr>\n",
       "    <tr>\n",
       "      <th>1</th>\n",
       "      <td>2013-11-29</td>\n",
       "      <td>Buttes-Montmartre</td>\n",
       "      <td>Paris</td>\n",
       "      <td>2</td>\n",
       "      <td>120</td>\n",
       "    </tr>\n",
       "    <tr>\n",
       "      <th>2</th>\n",
       "      <td>2014-07-31</td>\n",
       "      <td>Elysee</td>\n",
       "      <td>Paris</td>\n",
       "      <td>2</td>\n",
       "      <td>89</td>\n",
       "    </tr>\n",
       "    <tr>\n",
       "      <th>3</th>\n",
       "      <td>2013-12-17</td>\n",
       "      <td>Vaugirard</td>\n",
       "      <td>Paris</td>\n",
       "      <td>2</td>\n",
       "      <td>58</td>\n",
       "    </tr>\n",
       "    <tr>\n",
       "      <th>4</th>\n",
       "      <td>2014-12-14</td>\n",
       "      <td>Passy</td>\n",
       "      <td>Paris</td>\n",
       "      <td>2</td>\n",
       "      <td>60</td>\n",
       "    </tr>\n",
       "    <tr>\n",
       "      <th>...</th>\n",
       "      <td>...</td>\n",
       "      <td>...</td>\n",
       "      <td>...</td>\n",
       "      <td>...</td>\n",
       "      <td>...</td>\n",
       "    </tr>\n",
       "    <tr>\n",
       "      <th>279707</th>\n",
       "      <td>2015-04-13</td>\n",
       "      <td>Observatoire</td>\n",
       "      <td>Paris</td>\n",
       "      <td>2</td>\n",
       "      <td>120</td>\n",
       "    </tr>\n",
       "    <tr>\n",
       "      <th>279708</th>\n",
       "      <td>2013-11-27</td>\n",
       "      <td>Buttes-Montmartre</td>\n",
       "      <td>Paris</td>\n",
       "      <td>2</td>\n",
       "      <td>60</td>\n",
       "    </tr>\n",
       "    <tr>\n",
       "      <th>279709</th>\n",
       "      <td>2012-04-27</td>\n",
       "      <td>Buttes-Montmartre</td>\n",
       "      <td>Paris</td>\n",
       "      <td>2</td>\n",
       "      <td>50</td>\n",
       "    </tr>\n",
       "    <tr>\n",
       "      <th>279710</th>\n",
       "      <td>2015-07-16</td>\n",
       "      <td>Popincourt</td>\n",
       "      <td>Paris</td>\n",
       "      <td>2</td>\n",
       "      <td>105</td>\n",
       "    </tr>\n",
       "    <tr>\n",
       "      <th>279711</th>\n",
       "      <td>2013-06-17</td>\n",
       "      <td>Enclos-St-Laurent</td>\n",
       "      <td>Paris</td>\n",
       "      <td>2</td>\n",
       "      <td>70</td>\n",
       "    </tr>\n",
       "  </tbody>\n",
       "</table>\n",
       "<p>64690 rows × 5 columns</p>\n",
       "</div>"
      ],
      "text/plain": [
       "       host_since      neighbourhood   city  accommodates  price\n",
       "0      2011-12-03  Buttes-Montmartre  Paris             2     53\n",
       "1      2013-11-29  Buttes-Montmartre  Paris             2    120\n",
       "2      2014-07-31             Elysee  Paris             2     89\n",
       "3      2013-12-17          Vaugirard  Paris             2     58\n",
       "4      2014-12-14              Passy  Paris             2     60\n",
       "...           ...                ...    ...           ...    ...\n",
       "279707 2015-04-13       Observatoire  Paris             2    120\n",
       "279708 2013-11-27  Buttes-Montmartre  Paris             2     60\n",
       "279709 2012-04-27  Buttes-Montmartre  Paris             2     50\n",
       "279710 2015-07-16         Popincourt  Paris             2    105\n",
       "279711 2013-06-17  Enclos-St-Laurent  Paris             2     70\n",
       "\n",
       "[64690 rows x 5 columns]"
      ]
     },
     "execution_count": 8,
     "metadata": {},
     "output_type": "execute_result"
    }
   ],
   "source": [
    "listings_paris"
   ]
  },
  {
   "cell_type": "code",
   "execution_count": null,
   "id": "bd590c34-f852-4750-8ac6-b0e969b5cb15",
   "metadata": {},
   "outputs": [],
   "source": [
    "# 🧹 Data Cleaning\n",
    "# We filter out any listings with negative or missing values in the 'accommodates' and 'price' columns.\n",
    "# This ensures we only analyze valid listings."
   ]
  },
  {
   "cell_type": "code",
   "execution_count": 9,
   "id": "aaffcbb0-5c99-4238-9437-35785dd77395",
   "metadata": {},
   "outputs": [],
   "source": [
    "paris_listings_neighbourhood = (\n",
    "                                listings_paris\n",
    "                                .groupby('neighbourhood')\n",
    "                                .agg({'price':'mean'})\n",
    "                                .sort_values(by = 'price', ascending = True )\n",
    "                               )"
   ]
  },
  {
   "cell_type": "code",
   "execution_count": 10,
   "id": "47ad9846-64a1-4d69-bb1d-fb45eb8ad990",
   "metadata": {},
   "outputs": [
    {
     "data": {
      "text/html": [
       "<div>\n",
       "<style scoped>\n",
       "    .dataframe tbody tr th:only-of-type {\n",
       "        vertical-align: middle;\n",
       "    }\n",
       "\n",
       "    .dataframe tbody tr th {\n",
       "        vertical-align: top;\n",
       "    }\n",
       "\n",
       "    .dataframe thead th {\n",
       "        text-align: right;\n",
       "    }\n",
       "</style>\n",
       "<table border=\"1\" class=\"dataframe\">\n",
       "  <thead>\n",
       "    <tr style=\"text-align: right;\">\n",
       "      <th></th>\n",
       "      <th>price</th>\n",
       "    </tr>\n",
       "    <tr>\n",
       "      <th>neighbourhood</th>\n",
       "      <th></th>\n",
       "    </tr>\n",
       "  </thead>\n",
       "  <tbody>\n",
       "    <tr>\n",
       "      <th>Menilmontant</th>\n",
       "      <td>74.942257</td>\n",
       "    </tr>\n",
       "    <tr>\n",
       "      <th>Buttes-Chaumont</th>\n",
       "      <td>82.690182</td>\n",
       "    </tr>\n",
       "    <tr>\n",
       "      <th>Buttes-Montmartre</th>\n",
       "      <td>87.209479</td>\n",
       "    </tr>\n",
       "    <tr>\n",
       "      <th>Reuilly</th>\n",
       "      <td>89.058402</td>\n",
       "    </tr>\n",
       "    <tr>\n",
       "      <th>Popincourt</th>\n",
       "      <td>90.559459</td>\n",
       "    </tr>\n",
       "    <tr>\n",
       "      <th>Gobelins</th>\n",
       "      <td>98.110184</td>\n",
       "    </tr>\n",
       "    <tr>\n",
       "      <th>Observatoire</th>\n",
       "      <td>101.866801</td>\n",
       "    </tr>\n",
       "    <tr>\n",
       "      <th>Batignolles-Monceau</th>\n",
       "      <td>102.612702</td>\n",
       "    </tr>\n",
       "    <tr>\n",
       "      <th>Enclos-St-Laurent</th>\n",
       "      <td>102.967156</td>\n",
       "    </tr>\n",
       "    <tr>\n",
       "      <th>Vaugirard</th>\n",
       "      <td>106.831330</td>\n",
       "    </tr>\n",
       "    <tr>\n",
       "      <th>Opera</th>\n",
       "      <td>119.038644</td>\n",
       "    </tr>\n",
       "    <tr>\n",
       "      <th>Pantheon</th>\n",
       "      <td>122.662150</td>\n",
       "    </tr>\n",
       "    <tr>\n",
       "      <th>Temple</th>\n",
       "      <td>138.446823</td>\n",
       "    </tr>\n",
       "    <tr>\n",
       "      <th>Hotel-de-Ville</th>\n",
       "      <td>144.472110</td>\n",
       "    </tr>\n",
       "    <tr>\n",
       "      <th>Bourse</th>\n",
       "      <td>149.496801</td>\n",
       "    </tr>\n",
       "    <tr>\n",
       "      <th>Luxembourg</th>\n",
       "      <td>155.638639</td>\n",
       "    </tr>\n",
       "    <tr>\n",
       "      <th>Palais-Bourbon</th>\n",
       "      <td>156.856578</td>\n",
       "    </tr>\n",
       "    <tr>\n",
       "      <th>Passy</th>\n",
       "      <td>161.144635</td>\n",
       "    </tr>\n",
       "    <tr>\n",
       "      <th>Louvre</th>\n",
       "      <td>175.379972</td>\n",
       "    </tr>\n",
       "    <tr>\n",
       "      <th>Elysee</th>\n",
       "      <td>210.536765</td>\n",
       "    </tr>\n",
       "  </tbody>\n",
       "</table>\n",
       "</div>"
      ],
      "text/plain": [
       "                          price\n",
       "neighbourhood                  \n",
       "Menilmontant          74.942257\n",
       "Buttes-Chaumont       82.690182\n",
       "Buttes-Montmartre     87.209479\n",
       "Reuilly               89.058402\n",
       "Popincourt            90.559459\n",
       "Gobelins              98.110184\n",
       "Observatoire         101.866801\n",
       "Batignolles-Monceau  102.612702\n",
       "Enclos-St-Laurent    102.967156\n",
       "Vaugirard            106.831330\n",
       "Opera                119.038644\n",
       "Pantheon             122.662150\n",
       "Temple               138.446823\n",
       "Hotel-de-Ville       144.472110\n",
       "Bourse               149.496801\n",
       "Luxembourg           155.638639\n",
       "Palais-Bourbon       156.856578\n",
       "Passy                161.144635\n",
       "Louvre               175.379972\n",
       "Elysee               210.536765"
      ]
     },
     "execution_count": 10,
     "metadata": {},
     "output_type": "execute_result"
    }
   ],
   "source": [
    "paris_listings_neighbourhood"
   ]
  },
  {
   "cell_type": "code",
   "execution_count": null,
   "id": "af2d2e31-117a-46ad-9076-91a8b52bd2d2",
   "metadata": {},
   "outputs": [],
   "source": [
    "# 📊 Group Listings by Neighborhood\n",
    "# Group the data by the 'neighbourhood' column and calculate the average price for each neighborhood.\n",
    "# This helps identify which neighborhoods are the most expensive for Airbnb listings in Paris."
   ]
  },
  {
   "cell_type": "code",
   "execution_count": 11,
   "id": "c4a882f1-74a4-40dd-9932-daefe69184b0",
   "metadata": {},
   "outputs": [],
   "source": [
    "paris_listings_accomodations = (listings_paris\n",
    "                                .query('neighbourhood == \"Elysee\"')\n",
    "                                .groupby('accommodates')\n",
    "                                .agg({'price':'mean'})\n",
    "                                .sort_values(by = 'price', ascending = True )\n",
    "                               )"
   ]
  },
  {
   "cell_type": "code",
   "execution_count": 12,
   "id": "634951e5-e219-484d-a78a-e15b3f5b588c",
   "metadata": {},
   "outputs": [
    {
     "data": {
      "text/html": [
       "<div>\n",
       "<style scoped>\n",
       "    .dataframe tbody tr th:only-of-type {\n",
       "        vertical-align: middle;\n",
       "    }\n",
       "\n",
       "    .dataframe tbody tr th {\n",
       "        vertical-align: top;\n",
       "    }\n",
       "\n",
       "    .dataframe thead th {\n",
       "        text-align: right;\n",
       "    }\n",
       "</style>\n",
       "<table border=\"1\" class=\"dataframe\">\n",
       "  <thead>\n",
       "    <tr style=\"text-align: right;\">\n",
       "      <th></th>\n",
       "      <th>price</th>\n",
       "    </tr>\n",
       "    <tr>\n",
       "      <th>accommodates</th>\n",
       "      <th></th>\n",
       "    </tr>\n",
       "  </thead>\n",
       "  <tbody>\n",
       "    <tr>\n",
       "      <th>0</th>\n",
       "      <td>0.000000</td>\n",
       "    </tr>\n",
       "    <tr>\n",
       "      <th>1</th>\n",
       "      <td>79.522222</td>\n",
       "    </tr>\n",
       "    <tr>\n",
       "      <th>3</th>\n",
       "      <td>152.828767</td>\n",
       "    </tr>\n",
       "    <tr>\n",
       "      <th>2</th>\n",
       "      <td>155.103352</td>\n",
       "    </tr>\n",
       "    <tr>\n",
       "      <th>4</th>\n",
       "      <td>212.096070</td>\n",
       "    </tr>\n",
       "    <tr>\n",
       "      <th>5</th>\n",
       "      <td>328.817073</td>\n",
       "    </tr>\n",
       "    <tr>\n",
       "      <th>6</th>\n",
       "      <td>355.508571</td>\n",
       "    </tr>\n",
       "    <tr>\n",
       "      <th>8</th>\n",
       "      <td>405.518519</td>\n",
       "    </tr>\n",
       "    <tr>\n",
       "      <th>7</th>\n",
       "      <td>411.538462</td>\n",
       "    </tr>\n",
       "    <tr>\n",
       "      <th>9</th>\n",
       "      <td>440.272727</td>\n",
       "    </tr>\n",
       "    <tr>\n",
       "      <th>10</th>\n",
       "      <td>500.857143</td>\n",
       "    </tr>\n",
       "    <tr>\n",
       "      <th>12</th>\n",
       "      <td>529.625000</td>\n",
       "    </tr>\n",
       "    <tr>\n",
       "      <th>16</th>\n",
       "      <td>800.000000</td>\n",
       "    </tr>\n",
       "    <tr>\n",
       "      <th>11</th>\n",
       "      <td>805.000000</td>\n",
       "    </tr>\n",
       "    <tr>\n",
       "      <th>13</th>\n",
       "      <td>842.500000</td>\n",
       "    </tr>\n",
       "    <tr>\n",
       "      <th>14</th>\n",
       "      <td>971.000000</td>\n",
       "    </tr>\n",
       "  </tbody>\n",
       "</table>\n",
       "</div>"
      ],
      "text/plain": [
       "                   price\n",
       "accommodates            \n",
       "0               0.000000\n",
       "1              79.522222\n",
       "3             152.828767\n",
       "2             155.103352\n",
       "4             212.096070\n",
       "5             328.817073\n",
       "6             355.508571\n",
       "8             405.518519\n",
       "7             411.538462\n",
       "9             440.272727\n",
       "10            500.857143\n",
       "12            529.625000\n",
       "16            800.000000\n",
       "11            805.000000\n",
       "13            842.500000\n",
       "14            971.000000"
      ]
     },
     "execution_count": 12,
     "metadata": {},
     "output_type": "execute_result"
    }
   ],
   "source": [
    "paris_listings_accomodations"
   ]
  },
  {
   "cell_type": "code",
   "execution_count": null,
   "id": "ff705595-ab37-497a-aaab-2847fc0715f5",
   "metadata": {},
   "outputs": [],
   "source": [
    "# 📈 Analyze Accommodations in the Most Expensive Neighborhood\n",
    "# Focus on the 'Elysee' neighborhood and analyze the average prices based on the number of people accommodated.\n",
    "# This provides insights into how prices vary with the size of the listing."
   ]
  },
  {
   "cell_type": "code",
   "execution_count": 13,
   "id": "5583b3a4-ee0e-42d9-b1c3-72373131ef02",
   "metadata": {},
   "outputs": [],
   "source": [
    "paris_listings_over_time = (\n",
    "                            listings_paris\n",
    "                            .set_index('host_since')\n",
    "                            .resample('YE')\n",
    "                            .agg({\n",
    "                                'neighbourhood':'count',\n",
    "                                'price':'mean'\n",
    "                                 }\n",
    "                                )\n",
    "                           )"
   ]
  },
  {
   "cell_type": "code",
   "execution_count": 14,
   "id": "20702581-4a55-4a43-9a0b-94cd35d8a5ce",
   "metadata": {},
   "outputs": [
    {
     "data": {
      "text/html": [
       "<div>\n",
       "<style scoped>\n",
       "    .dataframe tbody tr th:only-of-type {\n",
       "        vertical-align: middle;\n",
       "    }\n",
       "\n",
       "    .dataframe tbody tr th {\n",
       "        vertical-align: top;\n",
       "    }\n",
       "\n",
       "    .dataframe thead th {\n",
       "        text-align: right;\n",
       "    }\n",
       "</style>\n",
       "<table border=\"1\" class=\"dataframe\">\n",
       "  <thead>\n",
       "    <tr style=\"text-align: right;\">\n",
       "      <th></th>\n",
       "      <th>neighbourhood</th>\n",
       "      <th>price</th>\n",
       "    </tr>\n",
       "    <tr>\n",
       "      <th>host_since</th>\n",
       "      <th></th>\n",
       "      <th></th>\n",
       "    </tr>\n",
       "  </thead>\n",
       "  <tbody>\n",
       "    <tr>\n",
       "      <th>2008-12-31</th>\n",
       "      <td>4</td>\n",
       "      <td>77.750000</td>\n",
       "    </tr>\n",
       "    <tr>\n",
       "      <th>2009-12-31</th>\n",
       "      <td>106</td>\n",
       "      <td>159.641509</td>\n",
       "    </tr>\n",
       "    <tr>\n",
       "      <th>2010-12-31</th>\n",
       "      <td>416</td>\n",
       "      <td>125.031250</td>\n",
       "    </tr>\n",
       "    <tr>\n",
       "      <th>2011-12-31</th>\n",
       "      <td>1339</td>\n",
       "      <td>124.828230</td>\n",
       "    </tr>\n",
       "    <tr>\n",
       "      <th>2012-12-31</th>\n",
       "      <td>4592</td>\n",
       "      <td>111.578615</td>\n",
       "    </tr>\n",
       "    <tr>\n",
       "      <th>2013-12-31</th>\n",
       "      <td>8142</td>\n",
       "      <td>107.096414</td>\n",
       "    </tr>\n",
       "    <tr>\n",
       "      <th>2014-12-31</th>\n",
       "      <td>10922</td>\n",
       "      <td>100.253800</td>\n",
       "    </tr>\n",
       "    <tr>\n",
       "      <th>2015-12-31</th>\n",
       "      <td>12147</td>\n",
       "      <td>103.646250</td>\n",
       "    </tr>\n",
       "    <tr>\n",
       "      <th>2016-12-31</th>\n",
       "      <td>8871</td>\n",
       "      <td>114.159847</td>\n",
       "    </tr>\n",
       "    <tr>\n",
       "      <th>2017-12-31</th>\n",
       "      <td>4585</td>\n",
       "      <td>108.658888</td>\n",
       "    </tr>\n",
       "    <tr>\n",
       "      <th>2018-12-31</th>\n",
       "      <td>4294</td>\n",
       "      <td>138.209362</td>\n",
       "    </tr>\n",
       "    <tr>\n",
       "      <th>2019-12-31</th>\n",
       "      <td>5694</td>\n",
       "      <td>129.757113</td>\n",
       "    </tr>\n",
       "    <tr>\n",
       "      <th>2020-12-31</th>\n",
       "      <td>3412</td>\n",
       "      <td>141.456038</td>\n",
       "    </tr>\n",
       "    <tr>\n",
       "      <th>2021-12-31</th>\n",
       "      <td>133</td>\n",
       "      <td>93.488722</td>\n",
       "    </tr>\n",
       "  </tbody>\n",
       "</table>\n",
       "</div>"
      ],
      "text/plain": [
       "            neighbourhood       price\n",
       "host_since                           \n",
       "2008-12-31              4   77.750000\n",
       "2009-12-31            106  159.641509\n",
       "2010-12-31            416  125.031250\n",
       "2011-12-31           1339  124.828230\n",
       "2012-12-31           4592  111.578615\n",
       "2013-12-31           8142  107.096414\n",
       "2014-12-31          10922  100.253800\n",
       "2015-12-31          12147  103.646250\n",
       "2016-12-31           8871  114.159847\n",
       "2017-12-31           4585  108.658888\n",
       "2018-12-31           4294  138.209362\n",
       "2019-12-31           5694  129.757113\n",
       "2020-12-31           3412  141.456038\n",
       "2021-12-31            133   93.488722"
      ]
     },
     "execution_count": 14,
     "metadata": {},
     "output_type": "execute_result"
    }
   ],
   "source": [
    "paris_listings_over_time"
   ]
  },
  {
   "cell_type": "markdown",
   "id": "b4b100e2-137d-4bdb-b7eb-ff79bab87343",
   "metadata": {},
   "source": [
    "# 🧐 Key Questions to Guide Our Analysis\n",
    "\n",
    "In this project, we aim to address several key questions to better understand the Airbnb market in Paris. These questions will guide our exploration and visualization of the data.\n",
    "\n",
    "### Key Questions:\n",
    "\n",
    "1️⃣ **Which neighborhoods in Paris have the most expensive Airbnb listings?**  \n",
    "   We will identify the neighborhoods with the highest average prices and examine the factors driving these prices.\n",
    "\n",
    "2️⃣ **How have Airbnb prices in Paris changed over time?**  \n",
    "   We will explore how prices have fluctuated across different neighborhoods and time periods.\n",
    "\n",
    "3️⃣ **How has the number of Airbnb hosts in Paris evolved over time?**  \n",
    "   We will analyze the growth of Airbnb hosts in Paris to see if there were any significant spikes or declines.\n",
    "\n",
    "4️⃣ **What types of accommodations are most common in the most expensive neighborhoods?**  \n",
    "   We will break down the types of listings (e.g., private rooms, entire homes) and their impact on average prices.\n",
    "\n",
    "These questions will help structure our analysis and provide valuable insights into the Paris Airbnb market.\n"
   ]
  },
  {
   "cell_type": "code",
   "execution_count": 15,
   "id": "ac545566-6c7a-43ef-b286-c835221686c4",
   "metadata": {},
   "outputs": [
    {
     "data": {
      "text/plain": [
       "<Axes: title={'center': 'Average Price by Neighbourhood in Paris'}, ylabel='neighbourhood'>"
      ]
     },
     "execution_count": 15,
     "metadata": {},
     "output_type": "execute_result"
    },
    {
     "data": {
      "image/png": "[encoded data removed]",
      "text/plain": [
       "<Figure size 640x480 with 1 Axes>"
      ]
     },
     "metadata": {},
     "output_type": "display_data"
    }
   ],
   "source": [
    "paris_listings_neighbourhood.plot.barh(title = 'Average Price by Neighbourhood in Paris')"
   ]
  },
  {
   "cell_type": "code",
   "execution_count": null,
   "id": "81011f6b-e2f5-4a19-876a-4758f85a930b",
   "metadata": {},
   "outputs": [],
   "source": [
    "# 📊 Bar Chart of Average Prices by Neighborhood\n",
    "# This bar chart shows the average price of Airbnb listings in each neighborhood in Paris.\n",
    "# It highlights the differences in pricing between neighborhoods."
   ]
  },
  {
   "cell_type": "code",
   "execution_count": 16,
   "id": "22cc52f7-d8a1-49c0-81e0-cbb4b369aa8a",
   "metadata": {},
   "outputs": [
    {
     "data": {
      "text/plain": [
       "<Axes: title={'center': 'Average Price by Number of People Accomodated in Most Expensive Neighbourhood in Paris'}, ylabel='accommodates'>"
      ]
     },
     "execution_count": 16,
     "metadata": {},
     "output_type": "execute_result"
    },
    {
     "data": {
      "image/png": "[encoded data removed]",
      "text/plain": [
       "<Figure size 640x480 with 1 Axes>"
      ]
     },
     "metadata": {},
     "output_type": "display_data"
    }
   ],
   "source": [
    "paris_listings_accomodations.plot.barh(title = 'Average Price by Number of People Accomodated in Most Expensive Neighbourhood in Paris')"
   ]
  },
  {
   "cell_type": "code",
   "execution_count": 17,
   "id": "767efc71-176f-4adc-94f1-b82ff38ee78f",
   "metadata": {},
   "outputs": [
    {
     "data": {
      "text/plain": [
       "<Axes: xlabel='host_since'>"
      ]
     },
     "execution_count": 17,
     "metadata": {},
     "output_type": "execute_result"
    },
    {
     "data": {
      "image/png": "[encoded data removed]",
      "text/plain": [
       "<Figure size 640x480 with 1 Axes>"
      ]
     },
     "metadata": {},
     "output_type": "display_data"
    }
   ],
   "source": [
    "hosts_over_time = paris_listings_over_time.reset_index().plot.line(x = 'host_since', y = 'neighbourhood')\n",
    "hosts_over_time"
   ]
  },
  {
   "cell_type": "code",
   "execution_count": null,
   "id": "6316f02e-b196-407a-9c58-14d14784b861",
   "metadata": {},
   "outputs": [],
   "source": [
    "# 📉 Line Plot of Hosts Over Time\n",
    "# This line plot shows the number of Airbnb hosts joining the platform over time.\n",
    "# It highlights trends in the growth of Airbnb listings in Paris."
   ]
  },
  {
   "cell_type": "code",
   "execution_count": 18,
   "id": "e0d3a7ac-51c7-4719-8b31-6bae2ec49ad2",
   "metadata": {},
   "outputs": [
    {
     "data": {
      "text/plain": [
       "<Axes: xlabel='host_since'>"
      ]
     },
     "execution_count": 18,
     "metadata": {},
     "output_type": "execute_result"
    },
    {
     "data": {
      "image/png": "[encoded data removed]",
      "text/plain": [
       "<Figure size 640x480 with 1 Axes>"
      ]
     },
     "metadata": {},
     "output_type": "display_data"
    }
   ],
   "source": [
    "price_over_time = paris_listings_over_time.reset_index().plot.line(x = 'host_since', y = 'price')\n",
    "price_over_time"
   ]
  },
  {
   "cell_type": "code",
   "execution_count": null,
   "id": "8f377a31-5ed0-4ef6-97a6-c7963bd77588",
   "metadata": {},
   "outputs": [],
   "source": [
    "# 📈 Line Plot of Prices Over Time\n",
    "# This line plot shows how the average price of Airbnb listings has changed over time.\n",
    "# It provides insights into how prices have fluctuated and whether they are increasing or decreasing over the years."
   ]
  },
  {
   "cell_type": "markdown",
   "id": "72e69e5b-6d04-42ba-b603-5e6004fee44b",
   "metadata": {},
   "source": [
    "# 📢 Summary of Key Findings\n",
    "\n",
    "After analyzing the Airbnb listings in Paris, here are some key insights from the data:\n",
    "\n",
    "### ✅ **1. Neighborhood Insights**  \n",
    "- The most expensive neighborhoods in Paris include **Elysee**, **Louvre**, and **Palais-Bourbon**.  \n",
    "- These neighborhoods have higher average listing prices compared to other parts of Paris.\n",
    "\n",
    "### ✅ **2. Trends Over Time**  \n",
    "- The number of Airbnb hosts in Paris saw significant growth between **2010 and 2016**, but there has been a slight decline since **2018**.  \n",
    "- Average listing prices in Paris have fluctuated over time, with some neighborhoods experiencing sharper increases than others.\n",
    "\n",
    "### ✅ **3. Accommodation Insights**  \n",
    "- Larger accommodations (those that can accommodate more guests) tend to have higher average prices.  \n",
    "- The type of listing (e.g., private room vs. entire home) also impacts the average price, with entire homes being more expensive.\n",
    "\n",
    "---\n",
    "\n",
    "This analysis provides valuable insights into the Airbnb market in Paris and can be useful for hosts, guests, and policymakers alike.\n"
   ]
  }
 ],
 "metadata": {
  "kernelspec": {
   "display_name": "Python 3 (ipykernel)",
   "language": "python",
   "name": "python3"
  },
  "language_info": {
   "codemirror_mode": {
    "name": "ipython",
    "version": 3
   },
   "file_extension": ".py",
   "mimetype": "text/x-python",
   "name": "python",
   "nbconvert_exporter": "python",
   "pygments_lexer": "ipython3",
   "version": "3.12.7"
  }
 },
 "nbformat": 4,
 "nbformat_minor": 5
}
